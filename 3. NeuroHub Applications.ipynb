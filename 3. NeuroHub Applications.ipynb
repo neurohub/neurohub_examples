{
 "cells": [
  {
   "cell_type": "code",
   "execution_count": null,
   "metadata": {},
   "outputs": [],
   "source": [
    "!pip install requests"
   ]
  },
  {
   "cell_type": "code",
   "execution_count": null,
   "metadata": {},
   "outputs": [],
   "source": [
    "import requests\n",
    "import json\n",
    "import getpass"
   ]
  },
  {
   "cell_type": "markdown",
   "metadata": {},
   "source": [
    "# 1. Login to NeuroHub through the API"
   ]
  },
  {
   "cell_type": "code",
   "execution_count": null,
   "metadata": {},
   "outputs": [],
   "source": [
    "headers = {\n",
    "    'Content-Type': 'application/x-www-form-urlencoded',\n",
    "    'Accept': 'application/json',\n",
    "}\n",
    "data = {\n",
    "    'login': input('username'),\n",
    "    'password': getpass.getpass('password')\n",
    "}\n",
    "response = requests.post('https://portal.cbrain.mcgill.ca/session', headers=headers, data=data)\n",
    "if response.status_code == 200:\n",
    "    print(\"Login success\")\n",
    "    print(response.content)\n",
    "    jsonResponse = response.json()\n",
    "    token = jsonResponse[\"cbrain_api_token\"] #Token identifies your user session for you to use the API.\n",
    "else:\n",
    "    print(\"Login failure\")"
   ]
  },
  {
   "cell_type": "markdown",
   "metadata": {},
   "source": [
    "# 2. Downloading NeuroHub files through the API"
   ]
  },
  {
   "cell_type": "markdown",
   "metadata": {},
   "source": [
    "##### -Given file IDs."
   ]
  },
  {
   "cell_type": "code",
   "execution_count": null,
   "metadata": {},
   "outputs": [],
   "source": [
    "fileID = str(3319815)\n",
    "\n",
    "headers = {\n",
    "    'Accept': 'application/json',\n",
    "}\n",
    "params = (\n",
    "    ('id', fileID),\n",
    "    ('cbrain_api_token', token),\n",
    ")\n",
    "url = 'https://portal.cbrain.mcgill.ca//userfiles/' + fileID + '/content'\n",
    "response = requests.get(url, headers=headers, params=params, allow_redirects=True)\n",
    "if response.status_code == 200:\n",
    "    open('sub-1004359_ses-PREBL00_run-001_T1w.nii.gz', 'wb').write(response.content)\n",
    "    print(\"Downloaded file\")\n",
    "else:\n",
    "    print('File download failure')"
   ]
  },
  {
   "cell_type": "code",
   "execution_count": null,
   "metadata": {},
   "outputs": [],
   "source": [
    "fileID = str(3319812)\n",
    "\n",
    "headers = {\n",
    "    'Accept': 'application/json',\n",
    "}\n",
    "params = (\n",
    "    ('id', fileID),\n",
    "    ('cbrain_api_token', token),\n",
    ")\n",
    "url = 'https://portal.cbrain.mcgill.ca//userfiles/' + fileID + '/content'\n",
    "response = requests.get(url, headers=headers, params=params, allow_redirects=True)\n",
    "if response.status_code == 200:\n",
    "    open('sub-1004359_ses-PREBL00_task-encoding_run-001_bold.nii.gz', 'wb').write(response.content)\n",
    "    print(\"Downloaded file\")\n",
    "else:\n",
    "    print('File download failure')"
   ]
  },
  {
   "cell_type": "markdown",
   "metadata": {},
   "source": [
    "# 3. Working with the downloaded files"
   ]
  },
  {
   "cell_type": "markdown",
   "metadata": {},
   "source": [
    "##### Can use the downloaded files with popular libraries such as nibabel and nilearn\n",
    "##### Adapted from the nilearn examples at https://nilearn.github.io/auto_examples/index.html"
   ]
  },
  {
   "cell_type": "code",
   "execution_count": null,
   "metadata": {},
   "outputs": [],
   "source": [
    "import sys\n",
    "#install the packages we are using\n",
    "!{sys.executable} -m pip install nibabel\n",
    "!{sys.executable} -m pip install nilearn\n",
    "!{sys.executable} -m pip install matplotlib"
   ]
  },
  {
   "cell_type": "code",
   "execution_count": null,
   "metadata": {},
   "outputs": [],
   "source": [
    "import nibabel as nib #loads the brain scan files\n",
    "from nilearn import plotting #For visualization"
   ]
  },
  {
   "cell_type": "code",
   "execution_count": null,
   "metadata": {},
   "outputs": [],
   "source": [
    "file_to_load = 'sub-1004359_ses-PREBL00_run-001_T1w.nii.gz' #specify filename as string\n",
    "anat_file = nib.load(file_to_load) #loading an anatomical (T1 weighted) scan\n",
    "print(anat_file.shape) #3D shape\n",
    "\n",
    "file_to_load2 = 'sub-1004359_ses-PREBL00_task-encoding_run-001_bold.nii.gz'\n",
    "bold_file = nib.load(file_to_load2) #loading an fMRI (BOLD) scan\n",
    "print(bold_file.shape)#4D shape\n",
    "\n",
    "plotting.plot_img(anat_file) #General purpose plotting, no specific preset\n",
    "plotting.plot_anat(anat_file) #Anatomical image plotting"
   ]
  },
  {
   "cell_type": "markdown",
   "metadata": {},
   "source": [
    "# 4. Smoothing"
   ]
  },
  {
   "cell_type": "code",
   "execution_count": null,
   "metadata": {},
   "outputs": [],
   "source": [
    "from nilearn import image\n",
    "smooth_anat_img = image.smooth_img(anat_file, fwhm=3) #Apply a Gaussian filter along the three first dimensions of scan.\n",
    "#fwhm parameter is the smoothing strength in mm\n",
    "plotting.plot_img(smooth_anat_img) #General plotting function, compare to above."
   ]
  },
  {
   "cell_type": "markdown",
   "metadata": {},
   "source": [
    "# 5. fMRI visualization"
   ]
  },
  {
   "cell_type": "code",
   "execution_count": null,
   "metadata": {},
   "outputs": [],
   "source": [
    "from nilearn.image.image import mean_img\n",
    "\n",
    "mean_fmri = mean_img(bold_file) #Compute the mean of the images over time or the 4th dimension\n",
    "\n",
    "from nilearn.plotting import plot_epi, show\n",
    "plot_epi(mean_fmri) #plot cuts of the image (by default 3 cuts: Frontal, Axial, and Lateral)"
   ]
  },
  {
   "cell_type": "markdown",
   "metadata": {},
   "source": [
    "# 6. Extract a brain mask"
   ]
  },
  {
   "cell_type": "code",
   "execution_count": null,
   "metadata": {},
   "outputs": [],
   "source": [
    "from nilearn.masking import compute_epi_mask\n",
    "mask_img = compute_epi_mask(bold_file) #Compute a brain mask from fMRI data, 3D volume representing where object is within 3D space\n",
    "\n",
    "# Visualize it as an ROI\n",
    "from nilearn.plotting import plot_roi\n",
    "plot_roi(mask_img, mean_fmri) #Plot cuts of an ROI/mask image (by default 3 cuts: Frontal, Axial, and Lateral)"
   ]
  },
  {
   "cell_type": "markdown",
   "metadata": {},
   "source": [
    "# 7. Applying the mask to extract the corresponding time series"
   ]
  },
  {
   "cell_type": "code",
   "execution_count": null,
   "metadata": {},
   "outputs": [],
   "source": [
    "from nilearn.masking import apply_mask\n",
    "masked_data = apply_mask(bold_file, mask_img) #Read the time series (extract signal) from the given Niimg-like object, using the mask.\n",
    "#masked_data is in the form (timepoints, voxels).\n",
    "\n",
    "import matplotlib.pyplot as plt\n",
    "plt.figure(figsize=(7, 5))\n",
    "plt.plot(masked_data[:150, :2]) #Plot first 150 timepoints from 2 voxels\n",
    "plt.xlabel('Time [TRs]', fontsize=16)\n",
    "plt.ylabel('Intensity', fontsize=16)\n",
    "plt.xlim(0, 150)\n",
    "plt.subplots_adjust(bottom=.12, top=.95, right=.95, left=.12)\n",
    "\n",
    "show()"
   ]
  },
  {
   "cell_type": "markdown",
   "metadata": {},
   "source": [
    "# 8. Independent component analysis (ICA) of fMRI\n",
    "##### -Signal processing method to separate independent sources linearly mixed in several sensors\n",
    "##### -Special case of blind source separation\n",
    "##### -ICA will tell us to what degree each component contributes to the observed signal."
   ]
  },
  {
   "cell_type": "code",
   "execution_count": null,
   "metadata": {},
   "outputs": [],
   "source": [
    "from nilearn.input_data import NiftiMasker\n",
    "\n",
    "# Generate 3D mask to remove background\n",
    "masker = NiftiMasker(smoothing_fwhm=8, memory='nilearn_cache', memory_level=1,\n",
    "                     mask_strategy='epi', standardize=True)\n",
    "data_masked = masker.fit_transform(bold_file)"
   ]
  },
  {
   "cell_type": "code",
   "execution_count": null,
   "metadata": {},
   "outputs": [],
   "source": [
    "from sklearn.decomposition import FastICA\n",
    "n_components = 10\n",
    "ica = FastICA(n_components=n_components, random_state=42)\n",
    "components_masked = ica.fit_transform(data_masked.T).T\n",
    "\n",
    "# Normalize estimated components, for thresholding to make sense\n",
    "components_masked -= components_masked.mean(axis=0)\n",
    "components_masked /= components_masked.std(axis=0)\n",
    "# Threshold\n",
    "import numpy as np\n",
    "components_masked[np.abs(components_masked) < .8] = 0\n",
    "\n",
    "# Invert the masking operation, to go back to a full 3D representation\n",
    "component_img = masker.inverse_transform(components_masked)"
   ]
  },
  {
   "cell_type": "code",
   "execution_count": null,
   "metadata": {},
   "outputs": [],
   "source": [
    "from nilearn import image\n",
    "from nilearn.plotting import plot_stat_map, show\n",
    "\n",
    "# Use the mean as a background\n",
    "mean_img = image.mean_img(bold_file)\n",
    "\n",
    "# Show some interesting components\n",
    "plot_stat_map(image.index_img(component_img, 0), mean_img)\n",
    "plot_stat_map(image.index_img(component_img, 1), mean_img)\n",
    "\n",
    "show()"
   ]
  }
 ],
 "metadata": {
  "kernelspec": {
   "display_name": "Python 3",
   "language": "python",
   "name": "python3"
  },
  "language_info": {
   "codemirror_mode": {
    "name": "ipython",
    "version": 3
   },
   "file_extension": ".py",
   "mimetype": "text/x-python",
   "name": "python",
   "nbconvert_exporter": "python",
   "pygments_lexer": "ipython3",
   "version": "3.6.9"
  }
 },
 "nbformat": 4,
 "nbformat_minor": 2
}
