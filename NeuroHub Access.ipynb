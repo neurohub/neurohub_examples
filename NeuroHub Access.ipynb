{
 "cells": [
  {
   "cell_type": "markdown",
   "metadata": {},
   "source": [
    "# Accessing NeuroHub using the CBRAIN API\n",
    "This notebook is intented to showcase a few example usage of the CBRAIN API v5.1.3 that powers the NeuroHub platform. For an exhautive list of endpoints, see https://app.swaggerhub.com/apis/prioux/CBRAIN/5.1.3"
   ]
  },
  {
   "cell_type": "markdown",
   "metadata": {},
   "source": [
    "## 0. Set up boilerplate\n",
    "\n",
    "You **must** make sure the module `httpproxy/1.0` is loaded in your environment before starting this notebook on [JupyterLab on Beluga](https://jupyterhub.beluga.computecanada.ca/). **Do not** load the module in your `.bashrc`, it interferes with login node, this is needed for the compute nodes only.\n",
    "\n",
    "Let's first import libraries that are required to send HTTP requests and manipulate JSON data."
   ]
  },
  {
   "cell_type": "code",
   "execution_count": null,
   "metadata": {},
   "outputs": [],
   "source": [
    "import requests\n",
    "import json\n",
    "import getpass"
   ]
  },
  {
   "cell_type": "markdown",
   "metadata": {},
   "source": [
    "We define the API endpoint. See the [CBRAIN API](https://portal.cbrain.mcgill.ca/swagger#/) for more information about how to use the API."
   ]
  },
  {
   "cell_type": "code",
   "execution_count": null,
   "metadata": {},
   "outputs": [],
   "source": [
    "base_url = 'https://portal.cbrain.mcgill.ca'"
   ]
  },
  {
   "cell_type": "markdown",
   "metadata": {},
   "source": [
    "## 1. Connect to NeuroHub\n",
    "\n",
    "Connect to NeuroHub with a username and a password.  See the [NeuroHub Portal](https://neurohub.ca/portal.html) for information about how to register for an account.\n",
    "\n",
    "We could use token-based authentication: login to the [NeuroHub Portal](https://neurohub.ca/portal.html) to generate a token.\n",
    "\n",
    "Here we'll use username/password authentication where we `POST` our `credentials` to `/session` and get a token that will need to be sent as a parameter within each subsequent request. The token response is stored in `session_info`."
   ]
  },
  {
   "cell_type": "code",
   "execution_count": null,
   "metadata": {
    "tags": []
   },
   "outputs": [],
   "source": [
    "credentials = {\n",
    "    'login': input('username'),\n",
    "    'password': getpass.getpass('password')\n",
    "}\n",
    "\n",
    "response = requests.post(\n",
    "    url = '/'.join([base_url, 'session']),\n",
    "    data = credentials,\n",
    "    headers = {'Accept': 'application/json'}\n",
    ")\n",
    "\n",
    "if response.status_code != requests.codes.ok:\n",
    "    print('Login failed.')\n",
    "    print(response)\n",
    "else:\n",
    "    session_info = response.json()\n",
    "    print('Login successful.')\n",
    "    print(session_info['user_id'])\n",
    "    user_id = str(session_info['user_id'])\n",
    "    cbrain_api_token = session_info['cbrain_api_token']"
   ]
  },
  {
   "cell_type": "markdown",
   "metadata": {},
   "source": [
    "## 2. Get all user-accessible files\n",
    "\n",
    "We `GET` our `request` from `/userfiles` for a list of all the files we have access to. This may be many thousands of files and ***may take many minutes***. "
   ]
  },
  {
   "cell_type": "code",
   "execution_count": null,
   "metadata": {
    "scrolled": true,
    "tags": []
   },
   "outputs": [],
   "source": [
    "try:\n",
    "\n",
    "    user_id = str(session_info['user_id'])\n",
    "    cbrain_api_token = session_info['cbrain_api_token']\n",
    "\n",
    "except NameError:\n",
    "    raise UserWarning('Login first.')\n",
    " \n",
    "files = []\n",
    "\n",
    "request = {\n",
    "    'cbrain_api_token': cbrain_api_token,\n",
    "    'page': 1,\n",
    "    'per_page': 1000\n",
    "}\n",
    "\n",
    "while True:\n",
    "\n",
    "    response = requests.get(\n",
    "        url = '/'.join([base_url, 'userfiles']),\n",
    "        data = request,\n",
    "        headers = {'Accept': 'application/json'}\n",
    "    )\n",
    "\n",
    "    if response.status_code != requests.codes.ok:\n",
    "        print('User files request failed.')\n",
    "        print(response)\n",
    "        break\n",
    "\n",
    "    # Collect the responses on this page then increment\n",
    "    files += response.json()\n",
    "    request['page'] += 1\n",
    "    \n",
    "    # Stop requesting responses when we're at the last page\n",
    "    if len(response.json()) < request['per_page']:\n",
    "        break \n",
    "    \n",
    "print(\"{} files found\\n\".format(str(len(files))))"
   ]
  },
  {
   "cell_type": "markdown",
   "metadata": {},
   "source": [
    "## 3. Example usage\n",
    "### 3.a Filter files\n",
    "Files can be filtered on any of their properties.  Here we filter for a name that contains the `.nii.gz` extension."
   ]
  },
  {
   "cell_type": "code",
   "execution_count": null,
   "metadata": {
    "tags": [
     "outputPrepend"
    ]
   },
   "outputs": [],
   "source": [
    "result = list(filter(lambda f: '.nii.gz' in f['name'], files))\n",
    "print(json.dumps(result, indent=4, sort_keys=True))"
   ]
  },
  {
   "cell_type": "markdown",
   "metadata": {},
   "source": [
    "### 3.b Get file contents\n",
    "\n",
    "We `GET` the user file content from `/userfiles/{id}/content` for the first filtered result."
   ]
  },
  {
   "cell_type": "code",
   "execution_count": null,
   "metadata": {
    "tags": []
   },
   "outputs": [],
   "source": [
    "response = requests.get(\n",
    "    url = '/'.join([base_url, 'userfiles', str(result[0]['id']), 'content']),\n",
    "    data = {'cbrain_api_token': cbrain_api_token},\n",
    "    headers = {'Accept': 'application/json'}\n",
    ")\n",
    "\n",
    "print(response.headers)"
   ]
  },
  {
   "cell_type": "markdown",
   "metadata": {},
   "source": [
    "### 3.c Process data\n",
    "\n",
    "You can now do any interactive processing with `response.content`.\n",
    "\n",
    "Let's compare the computed size to the stated size."
   ]
  },
  {
   "cell_type": "code",
   "execution_count": null,
   "metadata": {
    "tags": []
   },
   "outputs": [],
   "source": [
    "print(len(response.content))\n",
    "print(result[0]['size'])"
   ]
  },
  {
   "cell_type": "markdown",
   "metadata": {},
   "source": [
    "### 3.d List possible pipelines\n",
    "\n",
    "The Tool Configuration ID allows us to specify the pipeline we want to use and on which Bourreaux we want to run it. By browsing all such pipelines, we can note the Tool Configuration ID for a tool-Bourreaux combination."
   ]
  },
  {
   "cell_type": "code",
   "execution_count": null,
   "metadata": {},
   "outputs": [],
   "source": [
    "try:\n",
    "\n",
    "    user_id = str(session_info['user_id'])\n",
    "    cbrain_api_token = session_info['cbrain_api_token']\n",
    "\n",
    "except NameError:\n",
    "    raise UserWarning('Login first.')\n",
    " \n",
    "tools = []\n",
    "\n",
    "request = {\n",
    "    'cbrain_api_token': cbrain_api_token,\n",
    "    'page': 1,\n",
    "    'per_page': 1000\n",
    "}\n",
    "\n",
    "while True:\n",
    "\n",
    "    response = requests.get(\n",
    "        url = '/'.join([base_url, 'tool_configs']),\n",
    "        data = request,\n",
    "        headers = {'Accept': 'application/json'}\n",
    "    )\n",
    "\n",
    "    if response.status_code != requests.codes.ok:\n",
    "        print('Tools request failed.')\n",
    "        print(response)\n",
    "        break\n",
    "\n",
    "    # Collect the responses on this page then increment\n",
    "    tools += response.json()\n",
    "    request['page'] += 1\n",
    "    \n",
    "    # Stop requesting responses when we're at the last page\n",
    "    if len(response.json()) < request['per_page']:\n",
    "        break \n",
    "    \n",
    "print(\"{} tool configs found\\n\".format(str(len(tools))))"
   ]
  },
  {
   "cell_type": "markdown",
   "metadata": {},
   "source": [
    "As we did before for the files, we can now filter the tools by words in their description. In the following cell we filter to find all tools with the word 'FSL' in the description. The tool config ID is the 'id' field. You can use the 'bourreau_id' and 'tool_id' to verify this is the correct tool you wish to use."
   ]
  },
  {
   "cell_type": "code",
   "execution_count": null,
   "metadata": {},
   "outputs": [],
   "source": [
    "result = list(filter(lambda f: 'FSL' in f['description'], tools))\n",
    "print(json.dumps(result, indent=4, sort_keys=True))"
   ]
  },
  {
   "cell_type": "markdown",
   "metadata": {},
   "source": [
    "### 3.d Submit a task\n",
    "\n",
    "For this example we will submit a task using a .nii.gz file to FSLFirst (tool_id: 51) on Converter-2 (bourreau_id: 39). This task has a Tool Config ID of 721, which we will use to post a task to CBRAIN.\n",
    "\n",
    "**Note that this needs a valid userfile ID to run. A public data provider to hold example files for this notebook is in the works.**"
   ]
  },
  {
   "cell_type": "code",
   "execution_count": null,
   "metadata": {},
   "outputs": [],
   "source": [
    "#Store the ID of the file we wish to run a task on. In this case, the first filtered result from the\n",
    "#files loaded in the previous section. Feel free to change it to a brainscan you have access to.\n",
    "fileID = result[0]['id']\n",
    "\n",
    "#Write the post API call\n",
    "headers = {\n",
    "    'Content-Type': 'application/json',\n",
    "    'Accept': 'application/json',\n",
    "}\n",
    "params = (\n",
    "    ('cbrain_api_token', cbrain_api_token),\n",
    ")\n",
    "\n",
    "#Specify the parameters of the task in a dictionary. We are running FSLFirst to register the brain scan.\n",
    "data = {\n",
    "  \"cbrain_task\": {\n",
    "    'type': 'CbrainTask::FslFirst', \n",
    "    'user_id': user_id,\n",
    "    'tool_config_id': 721, #This specifies the Tool we are running, and the server we are running it on.\n",
    "    'params': { #These parameters vary from tool to tool.\n",
    "      'interface_userfile_ids': [fileID], \n",
    "      'input_file': fileID, \n",
    "      'prefix': 'output', \n",
    "      'brain_extracted': False, \n",
    "      'three_stage': False, \n",
    "      'verbose': False       \n",
    "    }, \n",
    "    'run_number': None, \n",
    "    'results_data_provider_id': 179, \n",
    "    'cluster_workdir_size': None, \n",
    "    'workdir_archived': True, \n",
    "    'description': ''}\n",
    "}\n",
    "\n",
    "#Convert our parameter dictionary to a json and post the task.\n",
    "y = json.dumps(data)\n",
    "response = requests.post('https://portal.cbrain.mcgill.ca/tasks', headers=headers, params=params, data=y)\n",
    "\n",
    "if response.status_code == 200:\n",
    "    print(response.text)\n",
    "    json_format = json.loads(response.text) #save the response to a json file for future use\n",
    "else:\n",
    "    print(\"Task posting failed.\")\n",
    "    print(response.text)"
   ]
  },
  {
   "cell_type": "markdown",
   "metadata": {},
   "source": [
    "### 3.e Get task information\n",
    "\n",
    "It is assumed you ran a Task in the previous section before running this section of the code. This allows you to see the output file ID to run further tasks on it, or simply download its contents. It also allows you to track the completion status of the task."
   ]
  },
  {
   "cell_type": "code",
   "execution_count": null,
   "metadata": {},
   "outputs": [],
   "source": [
    "taskID = json_format[0][\"id\"]\n",
    "headers = {\n",
    "    'Accept': 'application/json',\n",
    "}\n",
    "params = (\n",
    "    ('id', taskID),\n",
    "    ('cbrain_api_token', cbrain_api_token)\n",
    ")\n",
    "url = 'https://portal.cbrain.mcgill.ca/tasks/' + str(taskID)\n",
    "response = requests.get(url, headers=headers, params=params)\n",
    "if response.status_code == 200:\n",
    "    print(response.text)\n",
    "else:\n",
    "    print(\"Task Info retrieval failed.\")"
   ]
  },
  {
   "cell_type": "markdown",
   "metadata": {},
   "source": [
    "## 4. Logout"
   ]
  },
  {
   "cell_type": "code",
   "execution_count": null,
   "metadata": {},
   "outputs": [],
   "source": [
    "headers = {\n",
    "    'Accept': 'application/json',\n",
    "}\n",
    "params = (\n",
    "    ('cbrain_api_token', cbrain_api_token),\n",
    ")\n",
    "response = requests.delete('https://portal.cbrain.mcgill.ca/session', headers=headers, params=params)\n",
    "if response.status_code == 200:\n",
    "    print(\"Logout success\")\n",
    "else:\n",
    "    print(\"Logout failure\")"
   ]
  }
 ],
 "metadata": {
  "kernelspec": {
   "display_name": "Python 3",
   "language": "python",
   "name": "python3"
  },
  "language_info": {
   "codemirror_mode": {
    "name": "ipython",
    "version": 3
   },
   "file_extension": ".py",
   "mimetype": "text/x-python",
   "name": "python",
   "nbconvert_exporter": "python",
   "pygments_lexer": "ipython3",
   "version": "3.6.9"
  }
 },
 "nbformat": 4,
 "nbformat_minor": 2
}
